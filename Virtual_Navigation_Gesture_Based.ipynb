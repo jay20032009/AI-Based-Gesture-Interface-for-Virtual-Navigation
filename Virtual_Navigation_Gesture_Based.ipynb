{
  "nbformat": 4,
  "nbformat_minor": 0,
  "metadata": {
    "colab": {
      "provenance": []
    },
    "kernelspec": {
      "name": "python3",
      "display_name": "Python 3"
    },
    "language_info": {
      "name": "python"
    }
  },
  "cells": [
    {
      "cell_type": "code",
      "source": [
        "!pip install pyvirtualdisplay\n"
      ],
      "metadata": {
        "colab": {
          "base_uri": "https://localhost:8080/"
        },
        "id": "XW1sLdxqAwdT",
        "outputId": "8d32bd8e-8477-4926-daca-1d369e12af9f"
      },
      "execution_count": 16,
      "outputs": [
        {
          "output_type": "stream",
          "name": "stdout",
          "text": [
            "Requirement already satisfied: pyvirtualdisplay in /usr/local/lib/python3.10/dist-packages (3.0)\n"
          ]
        }
      ]
    },
    {
      "cell_type": "code",
      "source": [
        "!apt-get install -y xvfb"
      ],
      "metadata": {
        "colab": {
          "base_uri": "https://localhost:8080/"
        },
        "id": "gDgwJqY2CjPZ",
        "outputId": "bf06e8ac-9b0d-4a2b-ffbe-46696c050658"
      },
      "execution_count": 17,
      "outputs": [
        {
          "output_type": "stream",
          "name": "stdout",
          "text": [
            "Reading package lists... Done\n",
            "Building dependency tree... Done\n",
            "Reading state information... Done\n",
            "xvfb is already the newest version (2:21.1.4-2ubuntu1.7~22.04.11).\n",
            "0 upgraded, 0 newly installed, 0 to remove and 49 not upgraded.\n"
          ]
        }
      ]
    },
    {
      "cell_type": "code",
      "source": [
        "from pyvirtualdisplay import Display\n",
        "import cv2\n",
        "import mediapipe as mp\n",
        "\n",
        "# Initialize virtual display\n",
        "display = Display(visible=0, size=(1024, 768))\n",
        "display.start()\n"
      ],
      "metadata": {
        "colab": {
          "base_uri": "https://localhost:8080/"
        },
        "id": "xrd5B1mdCpzw",
        "outputId": "36ce29ba-11a5-41c4-8b39-0fa87fd1c732"
      },
      "execution_count": 18,
      "outputs": [
        {
          "output_type": "execute_result",
          "data": {
            "text/plain": [
              "<pyvirtualdisplay.display.Display at 0x7ee619666530>"
            ]
          },
          "metadata": {},
          "execution_count": 18
        }
      ]
    },
    {
      "cell_type": "code",
      "source": [
        "import cv2\n",
        "import mediapipe as mp\n",
        "\n",
        "# Initialize MediaPipe hands and drawing utilities\n",
        "mp_hands = mp.solutions.hands\n",
        "mp_drawing = mp.solutions.drawing_utils\n",
        "hands = mp_hands.Hands()\n",
        "\n",
        "# Function to calculate Euclidean distance\n",
        "def calculate_distance(x1, y1, x2, y2):\n",
        "    return ((x2 - x1) ** 2 + (y2 - y1) ** 2) ** 0.5\n",
        "\n",
        "# Video capture from webcam\n",
        "cap = cv2.VideoCapture(0)\n",
        "\n",
        "while True:\n",
        "    ret, frame = cap.read()\n",
        "    if not ret:\n",
        "        break\n",
        "\n",
        "    # Convert frame to RGB\n",
        "    frame_rgb = cv2.cvtColor(frame, cv2.COLOR_BGR2RGB)\n",
        "\n",
        "    # Process frame for hand landmarks\n",
        "    results = hands.process(frame_rgb)\n",
        "\n",
        "    if results.multi_hand_landmarks:\n",
        "        for hand_landmarks in results.multi_hand_landmarks:\n",
        "            # Draw hand landmarks on the frame\n",
        "            mp_drawing.draw_landmarks(frame, hand_landmarks, mp_hands.HAND_CONNECTIONS)\n",
        "\n",
        "            # Extract fingertip coordinates\n",
        "            h, w, c = frame.shape\n",
        "            index_finger_tip = hand_landmarks.landmark[8]  # Index finger tip landmark\n",
        "            thumb_tip = hand_landmarks.landmark[4]  # Thumb tip landmark\n",
        "\n",
        "            # Convert normalized landmarks to pixel coordinates\n",
        "            index_x, index_y = int(index_finger_tip.x * w), int(index_finger_tip.y * h)\n",
        "            thumb_x, thumb_y = int(thumb_tip.x * w), int(thumb_tip.y * h)\n",
        "\n",
        "            # Calculate distance between thumb and index finger for click detection\n",
        "            distance = calculate_distance(index_x, index_y, thumb_x, thumb_y)\n",
        "\n",
        "            # Example action: print gesture if fingers are close\n",
        "            if distance < 40:\n",
        "                print(\"Click gesture detected\")\n",
        "\n",
        "    # Display the processed frame\n",
        "    cv2.imshow(\"AI Gesture Control\", frame)\n",
        "\n",
        "    # Break the loop on 'q' key press\n",
        "    if cv2.waitKey(1) & 0xFF == ord('q'):\n",
        "        break\n",
        "\n",
        "# Release video capture and close windows\n",
        "cap.release()\n",
        "cv2.destroyAllWindows()\n"
      ],
      "metadata": {
        "id": "goOCb6SwCzL8"
      },
      "execution_count": 19,
      "outputs": []
    }
  ]
}